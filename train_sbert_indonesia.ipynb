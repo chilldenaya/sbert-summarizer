{
 "cells": [
  {
   "cell_type": "markdown",
   "metadata": {},
   "source": [
    "# Data Exploration"
   ]
  },
  {
   "cell_type": "code",
   "execution_count": 2,
   "metadata": {},
   "outputs": [
    {
     "data": {
      "text/html": [
       "<div>\n",
       "<style scoped>\n",
       "    .dataframe tbody tr th:only-of-type {\n",
       "        vertical-align: middle;\n",
       "    }\n",
       "\n",
       "    .dataframe tbody tr th {\n",
       "        vertical-align: top;\n",
       "    }\n",
       "\n",
       "    .dataframe thead th {\n",
       "        text-align: right;\n",
       "    }\n",
       "</style>\n",
       "<table border=\"1\" class=\"dataframe\">\n",
       "  <thead>\n",
       "    <tr style=\"text-align: right;\">\n",
       "      <th></th>\n",
       "      <th>text1_id</th>\n",
       "      <th>text2_id</th>\n",
       "      <th>score</th>\n",
       "    </tr>\n",
       "  </thead>\n",
       "  <tbody>\n",
       "    <tr>\n",
       "      <th>0</th>\n",
       "      <td>Sebuah sepeda motor diparkir di dekat dinding ...</td>\n",
       "      <td>Sebuah sepeda motor diparkir oleh mural sebuah...</td>\n",
       "      <td>3.40</td>\n",
       "    </tr>\n",
       "    <tr>\n",
       "      <th>1</th>\n",
       "      <td>dia menikahimu, memilih untuk memiliki anak be...</td>\n",
       "      <td>mereka tidak pernah mengangkat masalah moral a...</td>\n",
       "      <td>0.50</td>\n",
       "    </tr>\n",
       "    <tr>\n",
       "      <th>2</th>\n",
       "      <td>Wanita yang meninggal itu juga mengenakan cinc...</td>\n",
       "      <td>Seorang wanita berambut pirang mengenakan arlo...</td>\n",
       "      <td>2.60</td>\n",
       "    </tr>\n",
       "    <tr>\n",
       "      <th>3</th>\n",
       "      <td>Kedua komponen harus berada di jalur tertutup.</td>\n",
       "      <td>bohlam dan baterai berada di jalur tertutup</td>\n",
       "      <td>3.80</td>\n",
       "    </tr>\n",
       "    <tr>\n",
       "      <th>4</th>\n",
       "      <td>Seperti yang sudah saya jelaskan pada bacaan k...</td>\n",
       "      <td>Seperti yang telah saya katakan dalam bacaan k...</td>\n",
       "      <td>4.75</td>\n",
       "    </tr>\n",
       "    <tr>\n",
       "      <th>...</th>\n",
       "      <td>...</td>\n",
       "      <td>...</td>\n",
       "      <td>...</td>\n",
       "    </tr>\n",
       "    <tr>\n",
       "      <th>2575</th>\n",
       "      <td>PM Turki mendesak untuk mengakhiri protes di I...</td>\n",
       "      <td>Polisi Turki menembakkan gas air mata ke pengu...</td>\n",
       "      <td>2.80</td>\n",
       "    </tr>\n",
       "    <tr>\n",
       "      <th>2576</th>\n",
       "      <td>Karena tegangannya tidak mencapai bohlam.</td>\n",
       "      <td>jalannya tidak tertutup</td>\n",
       "      <td>1.80</td>\n",
       "    </tr>\n",
       "    <tr>\n",
       "      <th>2577</th>\n",
       "      <td>Mereka kemudian jatuh dan telah mendukung sera...</td>\n",
       "      <td>Kedua negara yang menginvasi kemudian jatuh, d...</td>\n",
       "      <td>3.50</td>\n",
       "    </tr>\n",
       "    <tr>\n",
       "      <th>2578</th>\n",
       "      <td>Lem underlayment ke beton: berapa lama waktu y...</td>\n",
       "      <td>Berapa lama waktu yang dibutuhkan untuk menyem...</td>\n",
       "      <td>3.00</td>\n",
       "    </tr>\n",
       "    <tr>\n",
       "      <th>2579</th>\n",
       "      <td>Asosiasi Industri Rekaman Amerika mengatakan a...</td>\n",
       "      <td>Yaitu, jika Asosiasi Industri Rekaman Amerika ...</td>\n",
       "      <td>1.75</td>\n",
       "    </tr>\n",
       "  </tbody>\n",
       "</table>\n",
       "<p>12901 rows × 3 columns</p>\n",
       "</div>"
      ],
      "text/plain": [
       "                                               text1_id  \\\n",
       "0     Sebuah sepeda motor diparkir di dekat dinding ...   \n",
       "1     dia menikahimu, memilih untuk memiliki anak be...   \n",
       "2     Wanita yang meninggal itu juga mengenakan cinc...   \n",
       "3        Kedua komponen harus berada di jalur tertutup.   \n",
       "4     Seperti yang sudah saya jelaskan pada bacaan k...   \n",
       "...                                                 ...   \n",
       "2575  PM Turki mendesak untuk mengakhiri protes di I...   \n",
       "2576          Karena tegangannya tidak mencapai bohlam.   \n",
       "2577  Mereka kemudian jatuh dan telah mendukung sera...   \n",
       "2578  Lem underlayment ke beton: berapa lama waktu y...   \n",
       "2579  Asosiasi Industri Rekaman Amerika mengatakan a...   \n",
       "\n",
       "                                               text2_id  score  \n",
       "0     Sebuah sepeda motor diparkir oleh mural sebuah...   3.40  \n",
       "1     mereka tidak pernah mengangkat masalah moral a...   0.50  \n",
       "2     Seorang wanita berambut pirang mengenakan arlo...   2.60  \n",
       "3           bohlam dan baterai berada di jalur tertutup   3.80  \n",
       "4     Seperti yang telah saya katakan dalam bacaan k...   4.75  \n",
       "...                                                 ...    ...  \n",
       "2575  Polisi Turki menembakkan gas air mata ke pengu...   2.80  \n",
       "2576                            jalannya tidak tertutup   1.80  \n",
       "2577  Kedua negara yang menginvasi kemudian jatuh, d...   3.50  \n",
       "2578  Berapa lama waktu yang dibutuhkan untuk menyem...   3.00  \n",
       "2579  Yaitu, jika Asosiasi Industri Rekaman Amerika ...   1.75  \n",
       "\n",
       "[12901 rows x 3 columns]"
      ]
     },
     "execution_count": 2,
     "metadata": {},
     "output_type": "execute_result"
    }
   ],
   "source": [
    "import pandas as pd\n",
    "\n",
    "df_train = pd.read_csv(\"dataset/sts-indonesia/train.tsv\", sep=\"\\t\")\n",
    "df_train = df_train[[\"text1_id\", \"text2_id\", \"score\"]]\n",
    "df_train\n",
    "\n",
    "df_test = pd.read_csv(\"dataset/sts-indonesia/test.tsv\", sep=\"\\t\")\n",
    "df_test = df_test[[\"text1_id\", \"text2_id\", \"score\"]]\n",
    "df_test\n",
    "\n",
    "df = pd.concat([df_train, df_test])\n",
    "df\n"
   ]
  },
  {
   "cell_type": "code",
   "execution_count": 3,
   "metadata": {},
   "outputs": [
    {
     "data": {
      "text/plain": [
       "<AxesSubplot: >"
      ]
     },
     "execution_count": 3,
     "metadata": {},
     "output_type": "execute_result"
    },
    {
     "data": {
      "image/png": "[encoded data removed]",
      "text/plain": [
       "<Figure size 640x480 with 1 Axes>"
      ]
     },
     "metadata": {},
     "output_type": "display_data"
    }
   ],
   "source": [
    "df.boxplot(column=[\"score\"])"
   ]
  },
  {
   "cell_type": "code",
   "execution_count": 4,
   "metadata": {},
   "outputs": [
    {
     "data": {
      "text/plain": [
       "array([[<AxesSubplot: title={'center': 'score'}>]], dtype=object)"
      ]
     },
     "execution_count": 4,
     "metadata": {},
     "output_type": "execute_result"
    }
   ],
   "source": [
    "df.hist(bins=5)"
   ]
  },
  {
   "cell_type": "markdown",
   "metadata": {},
   "source": [
    "Looks like the dataset is skewed to the left"
   ]
  },
  {
   "cell_type": "markdown",
   "metadata": {},
   "source": [
    "# Data Preprocess"
   ]
  },
  {
   "cell_type": "code",
   "execution_count": 5,
   "metadata": {},
   "outputs": [
    {
     "data": {
      "text/html": [
       "<div>\n",
       "<style scoped>\n",
       "    .dataframe tbody tr th:only-of-type {\n",
       "        vertical-align: middle;\n",
       "    }\n",
       "\n",
       "    .dataframe tbody tr th {\n",
       "        vertical-align: top;\n",
       "    }\n",
       "\n",
       "    .dataframe thead th {\n",
       "        text-align: right;\n",
       "    }\n",
       "</style>\n",
       "<table border=\"1\" class=\"dataframe\">\n",
       "  <thead>\n",
       "    <tr style=\"text-align: right;\">\n",
       "      <th></th>\n",
       "      <th>text1_id</th>\n",
       "      <th>text2_id</th>\n",
       "      <th>score</th>\n",
       "    </tr>\n",
       "  </thead>\n",
       "  <tbody>\n",
       "    <tr>\n",
       "      <th>0</th>\n",
       "      <td>Sebuah sepeda motor diparkir di dekat dinding ...</td>\n",
       "      <td>Sebuah sepeda motor diparkir oleh mural sebuah...</td>\n",
       "      <td>0.68</td>\n",
       "    </tr>\n",
       "    <tr>\n",
       "      <th>1</th>\n",
       "      <td>dia menikahimu, memilih untuk memiliki anak be...</td>\n",
       "      <td>mereka tidak pernah mengangkat masalah moral a...</td>\n",
       "      <td>0.10</td>\n",
       "    </tr>\n",
       "    <tr>\n",
       "      <th>2</th>\n",
       "      <td>Wanita yang meninggal itu juga mengenakan cinc...</td>\n",
       "      <td>Seorang wanita berambut pirang mengenakan arlo...</td>\n",
       "      <td>0.52</td>\n",
       "    </tr>\n",
       "    <tr>\n",
       "      <th>3</th>\n",
       "      <td>Kedua komponen harus berada di jalur tertutup.</td>\n",
       "      <td>bohlam dan baterai berada di jalur tertutup</td>\n",
       "      <td>0.76</td>\n",
       "    </tr>\n",
       "    <tr>\n",
       "      <th>4</th>\n",
       "      <td>Seperti yang sudah saya jelaskan pada bacaan k...</td>\n",
       "      <td>Seperti yang telah saya katakan dalam bacaan k...</td>\n",
       "      <td>0.95</td>\n",
       "    </tr>\n",
       "    <tr>\n",
       "      <th>...</th>\n",
       "      <td>...</td>\n",
       "      <td>...</td>\n",
       "      <td>...</td>\n",
       "    </tr>\n",
       "    <tr>\n",
       "      <th>10316</th>\n",
       "      <td>Yang kita tahu adalah ini: Objek yang jauh men...</td>\n",
       "      <td>Perluasan ruang berarti bahwa benda-benda dala...</td>\n",
       "      <td>0.68</td>\n",
       "    </tr>\n",
       "    <tr>\n",
       "      <th>10317</th>\n",
       "      <td>Pabrikan pesawat dunia keempat, Embraer, mempe...</td>\n",
       "      <td>Pabrikan pesawat dunia terbesar keempat, Embra...</td>\n",
       "      <td>1.00</td>\n",
       "    </tr>\n",
       "    <tr>\n",
       "      <th>10318</th>\n",
       "      <td>Dia jelas memiliki alasan yang sah, meskipun d...</td>\n",
       "      <td>Yang pertama memiliki keduanya lebih bertanggu...</td>\n",
       "      <td>0.08</td>\n",
       "    </tr>\n",
       "    <tr>\n",
       "      <th>10319</th>\n",
       "      <td>AS: Assad menggunakan senjata kimia pada pembe...</td>\n",
       "      <td>Assad setuju untuk menyerahkan senjata kimia</td>\n",
       "      <td>0.36</td>\n",
       "    </tr>\n",
       "    <tr>\n",
       "      <th>10320</th>\n",
       "      <td>Seekor kucing berbaring di kursi kantor.</td>\n",
       "      <td>Seekor kucing jahe duduk di kursi kantor.</td>\n",
       "      <td>0.76</td>\n",
       "    </tr>\n",
       "  </tbody>\n",
       "</table>\n",
       "<p>10321 rows × 3 columns</p>\n",
       "</div>"
      ],
      "text/plain": [
       "                                                text1_id  \\\n",
       "0      Sebuah sepeda motor diparkir di dekat dinding ...   \n",
       "1      dia menikahimu, memilih untuk memiliki anak be...   \n",
       "2      Wanita yang meninggal itu juga mengenakan cinc...   \n",
       "3         Kedua komponen harus berada di jalur tertutup.   \n",
       "4      Seperti yang sudah saya jelaskan pada bacaan k...   \n",
       "...                                                  ...   \n",
       "10316  Yang kita tahu adalah ini: Objek yang jauh men...   \n",
       "10317  Pabrikan pesawat dunia keempat, Embraer, mempe...   \n",
       "10318  Dia jelas memiliki alasan yang sah, meskipun d...   \n",
       "10319  AS: Assad menggunakan senjata kimia pada pembe...   \n",
       "10320           Seekor kucing berbaring di kursi kantor.   \n",
       "\n",
       "                                                text2_id  score  \n",
       "0      Sebuah sepeda motor diparkir oleh mural sebuah...   0.68  \n",
       "1      mereka tidak pernah mengangkat masalah moral a...   0.10  \n",
       "2      Seorang wanita berambut pirang mengenakan arlo...   0.52  \n",
       "3            bohlam dan baterai berada di jalur tertutup   0.76  \n",
       "4      Seperti yang telah saya katakan dalam bacaan k...   0.95  \n",
       "...                                                  ...    ...  \n",
       "10316  Perluasan ruang berarti bahwa benda-benda dala...   0.68  \n",
       "10317  Pabrikan pesawat dunia terbesar keempat, Embra...   1.00  \n",
       "10318  Yang pertama memiliki keduanya lebih bertanggu...   0.08  \n",
       "10319       Assad setuju untuk menyerahkan senjata kimia   0.36  \n",
       "10320          Seekor kucing jahe duduk di kursi kantor.   0.76  \n",
       "\n",
       "[10321 rows x 3 columns]"
      ]
     },
     "execution_count": 5,
     "metadata": {},
     "output_type": "execute_result"
    }
   ],
   "source": [
    "import pandas as pd\n",
    "\n",
    "df_train = pd.read_csv(\"dataset/sts-indonesia/train.tsv\", sep=\"\\t\")\n",
    "df_train = df_train[[\"text1_id\", \"text2_id\", \"score\"]]\n",
    "df_train[\"score\"] = df_train[\"score\"] / 5.0\n",
    "df_train\n"
   ]
  },
  {
   "cell_type": "code",
   "execution_count": 6,
   "metadata": {},
   "outputs": [
    {
     "data": {
      "text/html": [
       "<div>\n",
       "<style scoped>\n",
       "    .dataframe tbody tr th:only-of-type {\n",
       "        vertical-align: middle;\n",
       "    }\n",
       "\n",
       "    .dataframe tbody tr th {\n",
       "        vertical-align: top;\n",
       "    }\n",
       "\n",
       "    .dataframe thead th {\n",
       "        text-align: right;\n",
       "    }\n",
       "</style>\n",
       "<table border=\"1\" class=\"dataframe\">\n",
       "  <thead>\n",
       "    <tr style=\"text-align: right;\">\n",
       "      <th></th>\n",
       "      <th>text1_id</th>\n",
       "      <th>text2_id</th>\n",
       "      <th>score</th>\n",
       "    </tr>\n",
       "  </thead>\n",
       "  <tbody>\n",
       "    <tr>\n",
       "      <th>0</th>\n",
       "      <td>Partai oposisi Thailand memboikot pemilihan umum</td>\n",
       "      <td>Oposisi Thailand mengumumkan boikot pemilu</td>\n",
       "      <td>0.96</td>\n",
       "    </tr>\n",
       "    <tr>\n",
       "      <th>1</th>\n",
       "      <td>WHO mengatakan, kasus terbaru tidak sesuai den...</td>\n",
       "      <td>WHO mengatakan kasus Singapura tidak sesuai de...</td>\n",
       "      <td>0.76</td>\n",
       "    </tr>\n",
       "    <tr>\n",
       "      <th>2</th>\n",
       "      <td>Banyak orang yang mengikuti balap sepeda, term...</td>\n",
       "      <td>Seorang lelaki mengendarai kursi roda tiga.</td>\n",
       "      <td>0.52</td>\n",
       "    </tr>\n",
       "    <tr>\n",
       "      <th>3</th>\n",
       "      <td>Jeff Bezos bertaruh $ 250 Juta untuk Menghidup...</td>\n",
       "      <td>Jeff Bezos Membayar $ 250 Juta Untuk The Washi...</td>\n",
       "      <td>0.84</td>\n",
       "    </tr>\n",
       "    <tr>\n",
       "      <th>4</th>\n",
       "      <td>perbatasan atau batas suatu objek</td>\n",
       "      <td>merencanakan, mengatur, dan melaksanakan (suat...</td>\n",
       "      <td>0.00</td>\n",
       "    </tr>\n",
       "    <tr>\n",
       "      <th>...</th>\n",
       "      <td>...</td>\n",
       "      <td>...</td>\n",
       "      <td>...</td>\n",
       "    </tr>\n",
       "    <tr>\n",
       "      <th>2575</th>\n",
       "      <td>PM Turki mendesak untuk mengakhiri protes di I...</td>\n",
       "      <td>Polisi Turki menembakkan gas air mata ke pengu...</td>\n",
       "      <td>0.56</td>\n",
       "    </tr>\n",
       "    <tr>\n",
       "      <th>2576</th>\n",
       "      <td>Karena tegangannya tidak mencapai bohlam.</td>\n",
       "      <td>jalannya tidak tertutup</td>\n",
       "      <td>0.36</td>\n",
       "    </tr>\n",
       "    <tr>\n",
       "      <th>2577</th>\n",
       "      <td>Mereka kemudian jatuh dan telah mendukung sera...</td>\n",
       "      <td>Kedua negara yang menginvasi kemudian jatuh, d...</td>\n",
       "      <td>0.70</td>\n",
       "    </tr>\n",
       "    <tr>\n",
       "      <th>2578</th>\n",
       "      <td>Lem underlayment ke beton: berapa lama waktu y...</td>\n",
       "      <td>Berapa lama waktu yang dibutuhkan untuk menyem...</td>\n",
       "      <td>0.60</td>\n",
       "    </tr>\n",
       "    <tr>\n",
       "      <th>2579</th>\n",
       "      <td>Asosiasi Industri Rekaman Amerika mengatakan a...</td>\n",
       "      <td>Yaitu, jika Asosiasi Industri Rekaman Amerika ...</td>\n",
       "      <td>0.35</td>\n",
       "    </tr>\n",
       "  </tbody>\n",
       "</table>\n",
       "<p>2580 rows × 3 columns</p>\n",
       "</div>"
      ],
      "text/plain": [
       "                                               text1_id  \\\n",
       "0      Partai oposisi Thailand memboikot pemilihan umum   \n",
       "1     WHO mengatakan, kasus terbaru tidak sesuai den...   \n",
       "2     Banyak orang yang mengikuti balap sepeda, term...   \n",
       "3     Jeff Bezos bertaruh $ 250 Juta untuk Menghidup...   \n",
       "4                     perbatasan atau batas suatu objek   \n",
       "...                                                 ...   \n",
       "2575  PM Turki mendesak untuk mengakhiri protes di I...   \n",
       "2576          Karena tegangannya tidak mencapai bohlam.   \n",
       "2577  Mereka kemudian jatuh dan telah mendukung sera...   \n",
       "2578  Lem underlayment ke beton: berapa lama waktu y...   \n",
       "2579  Asosiasi Industri Rekaman Amerika mengatakan a...   \n",
       "\n",
       "                                               text2_id  score  \n",
       "0            Oposisi Thailand mengumumkan boikot pemilu   0.96  \n",
       "1     WHO mengatakan kasus Singapura tidak sesuai de...   0.76  \n",
       "2           Seorang lelaki mengendarai kursi roda tiga.   0.52  \n",
       "3     Jeff Bezos Membayar $ 250 Juta Untuk The Washi...   0.84  \n",
       "4     merencanakan, mengatur, dan melaksanakan (suat...   0.00  \n",
       "...                                                 ...    ...  \n",
       "2575  Polisi Turki menembakkan gas air mata ke pengu...   0.56  \n",
       "2576                            jalannya tidak tertutup   0.36  \n",
       "2577  Kedua negara yang menginvasi kemudian jatuh, d...   0.70  \n",
       "2578  Berapa lama waktu yang dibutuhkan untuk menyem...   0.60  \n",
       "2579  Yaitu, jika Asosiasi Industri Rekaman Amerika ...   0.35  \n",
       "\n",
       "[2580 rows x 3 columns]"
      ]
     },
     "execution_count": 6,
     "metadata": {},
     "output_type": "execute_result"
    }
   ],
   "source": [
    "df_test = pd.read_csv(\"dataset/sts-indonesia/test.tsv\", sep=\"\\t\")\n",
    "df_test = df_test[[\"text1_id\", \"text2_id\", \"score\"]]\n",
    "df_test[\"score\"] = df_test[\"score\"] / 5.0\n",
    "df_test"
   ]
  },
  {
   "cell_type": "markdown",
   "metadata": {},
   "source": [
    "# Model Construction"
   ]
  },
  {
   "cell_type": "markdown",
   "metadata": {},
   "source": [
    "#### Architecture Initialization"
   ]
  },
  {
   "cell_type": "code",
   "execution_count": 33,
   "metadata": {},
   "outputs": [
    {
     "name": "stderr",
     "output_type": "stream",
     "text": [
      "Some weights of the model checkpoint at bert-base-uncased were not used when initializing BertModel: ['cls.seq_relationship.weight', 'cls.predictions.bias', 'cls.predictions.decoder.weight', 'cls.predictions.transform.dense.bias', 'cls.predictions.transform.LayerNorm.bias', 'cls.predictions.transform.dense.weight', 'cls.seq_relationship.bias', 'cls.predictions.transform.LayerNorm.weight']\n",
      "- This IS expected if you are initializing BertModel from the checkpoint of a model trained on another task or with another architecture (e.g. initializing a BertForSequenceClassification model from a BertForPreTraining model).\n",
      "- This IS NOT expected if you are initializing BertModel from the checkpoint of a model that you expect to be exactly identical (initializing a BertForSequenceClassification model from a BertForSequenceClassification model).\n"
     ]
    }
   ],
   "source": [
    "from sentence_transformers import SentenceTransformer, InputExample, models\n",
    "\n",
    "# TODO: try more complex architecture\n",
    "word_embedding_model = models.Transformer('bert-base-uncased', max_seq_length=256)\n",
    "\n",
    "# TODO: add dense layer\n",
    "pooling_model = models.Pooling(word_embedding_model.get_word_embedding_dimension(), pooling_mode=\"mean\")\n",
    "\n",
    "model = SentenceTransformer(modules=[word_embedding_model, pooling_model])"
   ]
  },
  {
   "cell_type": "markdown",
   "metadata": {},
   "source": [
    "#### Training Part"
   ]
  },
  {
   "cell_type": "code",
   "execution_count": 34,
   "metadata": {},
   "outputs": [
    {
     "name": "stderr",
     "output_type": "stream",
     "text": [
      "Iteration: 100%|██████████| 625/625 [35:40<00:00,  3.42s/it]\n",
      "Epoch: 100%|██████████| 1/1 [36:12<00:00, 2172.30s/it]\n"
     ]
    },
    {
     "data": {
      "text/plain": [
       "0.6680118226204218"
      ]
     },
     "execution_count": 34,
     "metadata": {},
     "output_type": "execute_result"
    }
   ],
   "source": [
    "from torch.utils.data import DataLoader\n",
    "from sentence_transformers import losses\n",
    "from sentence_transformers.evaluation import EmbeddingSimilarityEvaluator\n",
    "\n",
    "# create a train examples to be used in DataLoader\n",
    "train_examples = []\n",
    "for i, row in df_train.iterrows():\n",
    "    train_examples.append(InputExample(texts=[row[\"text1_id\"], row[\"text2_id\"]], label=row[\"score\"]))\n",
    "\n",
    "# we wrap our train_examples with the standard PyTorch DataLoader, which shuffles our data and produces batches of certain sizes.\n",
    "train_dataloader = DataLoader(train_examples, shuffle=True, batch_size=16)\n",
    "\n",
    "# define the loss function\n",
    "# TODO: use and experiment with another loss functions\n",
    "train_loss = losses.CosineSimilarityLoss(model)\n",
    "\n",
    "# define the evaluator\n",
    "# evaluate a model based on the similarity of the embeddings by calculating the Spearman and Pearson rank correlation in comparison to the gold standard labels\n",
    "# https://github.com/UKPLab/sentence-transformers/blob/83eeb5a7b9b81d17a235d76e101cc2912ee1a30d/examples/evaluation/evaluation_stsbenchmark.py#L10\n",
    "# TODO: this one should be a dev_examples not test_examples\n",
    "test_examples = []\n",
    "for i, row in df_test.iterrows():\n",
    "    test_examples.append(InputExample(texts=[row[\"text1_id\"], row[\"text2_id\"]], label=row[\"score\"]))\n",
    "evaluator = EmbeddingSimilarityEvaluator.from_input_examples(test_examples)\n",
    "\n",
    "# tune the model\n",
    "model.fit(train_objectives=[(train_dataloader, train_loss)], epochs=1, warmup_steps=100, evaluator=evaluator)\n",
    "\n",
    "# TODO: create a new embedding evaluator with test dataset (not dev dataset) and then evaluate the finetuned model here\n",
    "model.evaluate(evaluator)\n",
    "model.save(\"model/base_sbert_trained\", model_name=\"based-sbert-trained\")\n",
    "\n"
   ]
  },
  {
   "cell_type": "markdown",
   "metadata": {},
   "source": [
    "Usage of bert-base-uncased + indonesian sts seems pretty bad. Will try to use indoBERT as the base model"
   ]
  },
  {
   "cell_type": "markdown",
   "metadata": {},
   "source": [
    "# Experiments"
   ]
  },
  {
   "cell_type": "markdown",
   "metadata": {},
   "source": [
    "#### Experiment 1: will try to use indoBERT as the base word embedding BERT model"
   ]
  },
  {
   "cell_type": "code",
   "execution_count": 35,
   "metadata": {},
   "outputs": [
    {
     "name": "stderr",
     "output_type": "stream",
     "text": [
      "Some weights of the model checkpoint at indolem/indobert-base-uncased were not used when initializing BertModel: ['cls.predictions.bias', 'cls.predictions.decoder.bias', 'cls.predictions.transform.dense.bias', 'cls.predictions.transform.LayerNorm.bias', 'cls.predictions.transform.dense.weight', 'cls.predictions.decoder.weight', 'cls.predictions.transform.LayerNorm.weight']\n",
      "- This IS expected if you are initializing BertModel from the checkpoint of a model trained on another task or with another architecture (e.g. initializing a BertForSequenceClassification model from a BertForPreTraining model).\n",
      "- This IS NOT expected if you are initializing BertModel from the checkpoint of a model that you expect to be exactly identical (initializing a BertForSequenceClassification model from a BertForSequenceClassification model).\n",
      "Iteration: 100%|██████████| 625/625 [18:37<00:00,  1.79s/it]\n",
      "Epoch: 100%|██████████| 1/1 [18:58<00:00, 1138.19s/it]\n"
     ]
    },
    {
     "data": {
      "text/plain": [
       "0.7773440751254502"
      ]
     },
     "execution_count": 35,
     "metadata": {},
     "output_type": "execute_result"
    }
   ],
   "source": [
    "from sentence_transformers import SentenceTransformer, InputExample, models\n",
    "\n",
    "word_embedding_model = models.Transformer('indolem/indobert-base-uncased', max_seq_length=256)\n",
    "pooling_model = models.Pooling(word_embedding_model.get_word_embedding_dimension(), pooling_mode=\"mean\")\n",
    "\n",
    "model = SentenceTransformer(modules=[word_embedding_model, pooling_model])\n",
    "\n",
    "from torch.utils.data import DataLoader\n",
    "from sentence_transformers import losses\n",
    "from sentence_transformers.evaluation import EmbeddingSimilarityEvaluator\n",
    "\n",
    "train_examples = []\n",
    "for i, row in df_train.iterrows():\n",
    "    train_examples.append(InputExample(texts=[row[\"text1_id\"], row[\"text2_id\"]], label=row[\"score\"]))\n",
    "\n",
    "train_dataloader = DataLoader(train_examples, shuffle=True, batch_size=16)\n",
    "train_loss = losses.CosineSimilarityLoss(model)\n",
    "\n",
    "test_examples = []\n",
    "for i, row in df_test.iterrows():\n",
    "    test_examples.append(InputExample(texts=[row[\"text1_id\"], row[\"text2_id\"]], label=row[\"score\"]))\n",
    "evaluator = EmbeddingSimilarityEvaluator.from_input_examples(test_examples)\n",
    "\n",
    "model.fit(train_objectives=[(train_dataloader, train_loss)], epochs=1, warmup_steps=100, evaluator=evaluator)\n",
    "model.evaluate(evaluator)\n",
    "model.save(\"model/indosbert_trained\", model_name=\"indosbert-trained\")\n"
   ]
  },
  {
   "cell_type": "markdown",
   "metadata": {},
   "source": [
    "Using IndoBERT shows the score is much better than using basic bert model with score 77.73 "
   ]
  },
  {
   "cell_type": "markdown",
   "metadata": {},
   "source": [
    "#### Experiment 2: will use more complex siamese network building blocks"
   ]
  },
  {
   "cell_type": "code",
   "execution_count": 8,
   "metadata": {},
   "outputs": [
    {
     "name": "stderr",
     "output_type": "stream",
     "text": [
      "Some weights of the model checkpoint at indolem/indobert-base-uncased were not used when initializing BertModel: ['cls.predictions.decoder.bias', 'cls.predictions.transform.LayerNorm.bias', 'cls.predictions.transform.LayerNorm.weight', 'cls.predictions.transform.dense.weight', 'cls.predictions.decoder.weight', 'cls.predictions.transform.dense.bias', 'cls.predictions.bias']\n",
      "- This IS expected if you are initializing BertModel from the checkpoint of a model trained on another task or with another architecture (e.g. initializing a BertForSequenceClassification model from a BertForPreTraining model).\n",
      "- This IS NOT expected if you are initializing BertModel from the checkpoint of a model that you expect to be exactly identical (initializing a BertForSequenceClassification model from a BertForSequenceClassification model).\n",
      "Iteration: 100%|██████████| 646/646 [20:18<00:00,  1.89s/it]\n",
      "Epoch: 100%|██████████| 1/1 [21:22<00:00, 1282.46s/it]\n"
     ]
    }
   ],
   "source": [
    "from sentence_transformers import SentenceTransformer, InputExample, models\n",
    "from torch import nn\n",
    "\n",
    "word_embedding_model = models.Transformer('indolem/indobert-base-uncased', max_seq_length=256)\n",
    "pooling_model = models.Pooling(word_embedding_model.get_word_embedding_dimension(), pooling_mode=\"mean\")\n",
    "dense_model = models.Dense(in_features=pooling_model.get_sentence_embedding_dimension(), out_features=256, activation_function=nn.Tanh())\n",
    "\n",
    "model = SentenceTransformer(modules=[word_embedding_model, pooling_model, dense_model])\n",
    "\n",
    "from torch.utils.data import DataLoader\n",
    "from sentence_transformers import losses\n",
    "from sentence_transformers.evaluation import EmbeddingSimilarityEvaluator\n",
    "\n",
    "train_examples = []\n",
    "for i, row in df_train.iterrows():\n",
    "    train_examples.append(InputExample(texts=[row[\"text1_id\"], row[\"text2_id\"]], label=row[\"score\"]))\n",
    "\n",
    "train_dataloader = DataLoader(train_examples, shuffle=True, batch_size=16)\n",
    "train_loss = losses.CosineSimilarityLoss(model)\n",
    "\n",
    "test_examples = []\n",
    "for i, row in df_test.iterrows():\n",
    "    test_examples.append(InputExample(texts=[row[\"text1_id\"], row[\"text2_id\"]], label=row[\"score\"]))\n",
    "evaluator = EmbeddingSimilarityEvaluator.from_input_examples(test_examples)\n",
    "\n",
    "model.fit(train_objectives=[(train_dataloader, train_loss)], epochs=1, warmup_steps=100, evaluator=evaluator)\n",
    "# model.evaluate(evaluator)\n",
    "model.save(\"model/indosbert_dense_trained\", model_name=\"indosbert-dense-trained\")\n"
   ]
  },
  {
   "cell_type": "code",
   "execution_count": 9,
   "metadata": {},
   "outputs": [
    {
     "data": {
      "text/plain": [
       "0.7812739379552828"
      ]
     },
     "execution_count": 9,
     "metadata": {},
     "output_type": "execute_result"
    }
   ],
   "source": [
    "model.evaluate(evaluator)"
   ]
  },
  {
   "cell_type": "markdown",
   "metadata": {},
   "source": [
    "# Inference\n",
    "\n",
    "After we got the model, we will use the model to make the score of our dataset"
   ]
  },
  {
   "cell_type": "code",
   "execution_count": 7,
   "metadata": {},
   "outputs": [
    {
     "data": {
      "text/html": [
       "<div>\n",
       "<style scoped>\n",
       "    .dataframe tbody tr th:only-of-type {\n",
       "        vertical-align: middle;\n",
       "    }\n",
       "\n",
       "    .dataframe tbody tr th {\n",
       "        vertical-align: top;\n",
       "    }\n",
       "\n",
       "    .dataframe thead th {\n",
       "        text-align: right;\n",
       "    }\n",
       "</style>\n",
       "<table border=\"1\" class=\"dataframe\">\n",
       "  <thead>\n",
       "    <tr style=\"text-align: right;\">\n",
       "      <th></th>\n",
       "      <th>text1_id</th>\n",
       "      <th>text2_id</th>\n",
       "      <th>score</th>\n",
       "      <th>score_inference</th>\n",
       "    </tr>\n",
       "  </thead>\n",
       "  <tbody>\n",
       "    <tr>\n",
       "      <th>0</th>\n",
       "      <td>Sebuah sepeda motor diparkir di dekat dinding ...</td>\n",
       "      <td>Sebuah sepeda motor diparkir oleh mural sebuah...</td>\n",
       "      <td>3.40</td>\n",
       "      <td>0.768838</td>\n",
       "    </tr>\n",
       "    <tr>\n",
       "      <th>1</th>\n",
       "      <td>dia menikahimu, memilih untuk memiliki anak be...</td>\n",
       "      <td>mereka tidak pernah mengangkat masalah moral a...</td>\n",
       "      <td>0.50</td>\n",
       "      <td>0.600113</td>\n",
       "    </tr>\n",
       "    <tr>\n",
       "      <th>2</th>\n",
       "      <td>Wanita yang meninggal itu juga mengenakan cinc...</td>\n",
       "      <td>Seorang wanita berambut pirang mengenakan arlo...</td>\n",
       "      <td>2.60</td>\n",
       "      <td>0.708318</td>\n",
       "    </tr>\n",
       "    <tr>\n",
       "      <th>3</th>\n",
       "      <td>Kedua komponen harus berada di jalur tertutup.</td>\n",
       "      <td>bohlam dan baterai berada di jalur tertutup</td>\n",
       "      <td>3.80</td>\n",
       "      <td>0.733746</td>\n",
       "    </tr>\n",
       "    <tr>\n",
       "      <th>4</th>\n",
       "      <td>Seperti yang sudah saya jelaskan pada bacaan k...</td>\n",
       "      <td>Seperti yang telah saya katakan dalam bacaan k...</td>\n",
       "      <td>4.75</td>\n",
       "      <td>0.833272</td>\n",
       "    </tr>\n",
       "    <tr>\n",
       "      <th>...</th>\n",
       "      <td>...</td>\n",
       "      <td>...</td>\n",
       "      <td>...</td>\n",
       "      <td>...</td>\n",
       "    </tr>\n",
       "    <tr>\n",
       "      <th>2575</th>\n",
       "      <td>PM Turki mendesak untuk mengakhiri protes di I...</td>\n",
       "      <td>Polisi Turki menembakkan gas air mata ke pengu...</td>\n",
       "      <td>2.80</td>\n",
       "      <td>0.662744</td>\n",
       "    </tr>\n",
       "    <tr>\n",
       "      <th>2576</th>\n",
       "      <td>Karena tegangannya tidak mencapai bohlam.</td>\n",
       "      <td>jalannya tidak tertutup</td>\n",
       "      <td>1.80</td>\n",
       "      <td>0.525529</td>\n",
       "    </tr>\n",
       "    <tr>\n",
       "      <th>2577</th>\n",
       "      <td>Mereka kemudian jatuh dan telah mendukung sera...</td>\n",
       "      <td>Kedua negara yang menginvasi kemudian jatuh, d...</td>\n",
       "      <td>3.50</td>\n",
       "      <td>0.637883</td>\n",
       "    </tr>\n",
       "    <tr>\n",
       "      <th>2578</th>\n",
       "      <td>Lem underlayment ke beton: berapa lama waktu y...</td>\n",
       "      <td>Berapa lama waktu yang dibutuhkan untuk menyem...</td>\n",
       "      <td>3.00</td>\n",
       "      <td>0.698352</td>\n",
       "    </tr>\n",
       "    <tr>\n",
       "      <th>2579</th>\n",
       "      <td>Asosiasi Industri Rekaman Amerika mengatakan a...</td>\n",
       "      <td>Yaitu, jika Asosiasi Industri Rekaman Amerika ...</td>\n",
       "      <td>1.75</td>\n",
       "      <td>0.797457</td>\n",
       "    </tr>\n",
       "  </tbody>\n",
       "</table>\n",
       "<p>12901 rows × 4 columns</p>\n",
       "</div>"
      ],
      "text/plain": [
       "                                               text1_id  \\\n",
       "0     Sebuah sepeda motor diparkir di dekat dinding ...   \n",
       "1     dia menikahimu, memilih untuk memiliki anak be...   \n",
       "2     Wanita yang meninggal itu juga mengenakan cinc...   \n",
       "3        Kedua komponen harus berada di jalur tertutup.   \n",
       "4     Seperti yang sudah saya jelaskan pada bacaan k...   \n",
       "...                                                 ...   \n",
       "2575  PM Turki mendesak untuk mengakhiri protes di I...   \n",
       "2576          Karena tegangannya tidak mencapai bohlam.   \n",
       "2577  Mereka kemudian jatuh dan telah mendukung sera...   \n",
       "2578  Lem underlayment ke beton: berapa lama waktu y...   \n",
       "2579  Asosiasi Industri Rekaman Amerika mengatakan a...   \n",
       "\n",
       "                                               text2_id  score  \\\n",
       "0     Sebuah sepeda motor diparkir oleh mural sebuah...   3.40   \n",
       "1     mereka tidak pernah mengangkat masalah moral a...   0.50   \n",
       "2     Seorang wanita berambut pirang mengenakan arlo...   2.60   \n",
       "3           bohlam dan baterai berada di jalur tertutup   3.80   \n",
       "4     Seperti yang telah saya katakan dalam bacaan k...   4.75   \n",
       "...                                                 ...    ...   \n",
       "2575  Polisi Turki menembakkan gas air mata ke pengu...   2.80   \n",
       "2576                            jalannya tidak tertutup   1.80   \n",
       "2577  Kedua negara yang menginvasi kemudian jatuh, d...   3.50   \n",
       "2578  Berapa lama waktu yang dibutuhkan untuk menyem...   3.00   \n",
       "2579  Yaitu, jika Asosiasi Industri Rekaman Amerika ...   1.75   \n",
       "\n",
       "      score_inference  \n",
       "0            0.768838  \n",
       "1            0.600113  \n",
       "2            0.708318  \n",
       "3            0.733746  \n",
       "4            0.833272  \n",
       "...               ...  \n",
       "2575         0.662744  \n",
       "2576         0.525529  \n",
       "2577         0.637883  \n",
       "2578         0.698352  \n",
       "2579         0.797457  \n",
       "\n",
       "[12901 rows x 4 columns]"
      ]
     },
     "execution_count": 7,
     "metadata": {},
     "output_type": "execute_result"
    }
   ],
   "source": [
    "from sentence_transformers import SentenceTransformer, util\n",
    "\n",
    "def find_similarity(model: SentenceTransformer, sentence1: str, sentence2: str) -> float:\n",
    "    embeddings1 = model.encode(sentence1, convert_to_tensor=True)\n",
    "    embeddings2 = model.encode(sentence2, convert_to_tensor=True)\n",
    "\n",
    "    cosine_scores = util.cos_sim(embeddings1, embeddings2)\n",
    "    return float(cosine_scores[0][0])\n",
    "\n",
    "model = SentenceTransformer(\"model/indosbert_trained\")\n",
    "score_inference = []\n",
    "for index, row in df.iterrows():\n",
    "    row_score = find_similarity(model, sentence1=row[\"text1_id\"], sentence2=row[\"text2_id\"]) * 5\n",
    "    score_inference.append(row_score)\n",
    "\n",
    "df[\"score_inference\"] = score_inference\n",
    "df"
   ]
  },
  {
   "cell_type": "code",
   "execution_count": 21,
   "metadata": {},
   "outputs": [
    {
     "data": {
      "text/plain": [
       "array([[<AxesSubplot: title={'center': 'score'}>,\n",
       "        <AxesSubplot: title={'center': 'score_inference'}>]], dtype=object)"
      ]
     },
     "execution_count": 21,
     "metadata": {},
     "output_type": "execute_result"
    },
    {
     "data": {
      "image/png": "[encoded data removed]",
      "text/plain": [
       "<Figure size 900x350 with 2 Axes>"
      ]
     },
     "metadata": {},
     "output_type": "display_data"
    }
   ],
   "source": [
    "df.hist(column=[\"score\", \"score_inference\"], bins=5, figsize=(9,3.5))"
   ]
  }
 ],
 "metadata": {
  "kernelspec": {
   "display_name": "Python 3.9.13 64-bit",
   "language": "python",
   "name": "python3"
  },
  "language_info": {
   "codemirror_mode": {
    "name": "ipython",
    "version": 3
   },
   "file_extension": ".py",
   "mimetype": "text/x-python",
   "name": "python",
   "nbconvert_exporter": "python",
   "pygments_lexer": "ipython3",
   "version": "3.9.13"
  },
  "orig_nbformat": 4,
  "vscode": {
   "interpreter": {
    "hash": "b0fa6594d8f4cbf19f97940f81e996739fb7646882a419484c72d19e05852a7e"
   }
  }
 },
 "nbformat": 4,
 "nbformat_minor": 2
}
